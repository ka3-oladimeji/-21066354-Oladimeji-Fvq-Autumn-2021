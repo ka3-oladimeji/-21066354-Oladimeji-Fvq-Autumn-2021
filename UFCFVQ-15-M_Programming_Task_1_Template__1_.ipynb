{
 "cells": [
  {
   "cell_type": "markdown",
   "metadata": {},
   "source": [
    "## UFCFVQ-15-M Programming for Data Science (Autumn 2021)\n",
    "# Programming Task 1\n",
    "\n",
    "## Student Id: 21066354"
   ]
  },
  {
   "cell_type": "markdown",
   "metadata": {
    "deletable": false
   },
   "source": [
    "<p style=\"color:red; font-weight:bold; font-size:xx-small\">OVERALL COURSEWORK MARK: ___%</p>"
   ]
  },
  {
   "cell_type": "markdown",
   "metadata": {
    "deletable": false
   },
   "source": [
    "### Requirement FR1 - Develop a function to find the arithmetic mean"
   ]
  },
  {
   "cell_type": "code",
   "execution_count": 2,
   "metadata": {},
   "outputs": [
    {
     "data": {
      "text/plain": [
       "15.333333333333334"
      ]
     },
     "execution_count": 2,
     "metadata": {},
     "output_type": "execute_result"
    }
   ],
   "source": [
    "number=[6, 2, 22, 21, 24, 23, 8, 9, 5, 3, 11, 28, 14, 13, 12, 26, 29, 16, 15, 20, 25, 1, 10, 18, 27, 19, 7]\n",
    "\n",
    "# Fuction to find arithmetic mean\n",
    "def mean(dlist):\n",
    "    # Sum items in list and divide by no. of items in the list\n",
    "    Average_mean = sum(dlist) / len(dlist)\n",
    "\n",
    "    return Average_mean\n",
    "\n",
    "mean(number)\n"
   ]
  },
  {
   "cell_type": "markdown",
   "metadata": {
    "deletable": false
   },
   "source": [
    "<p style=\"color:red; font-weight:bold; font-size:xx-small\">MARK: __%</p>\n",
    "<p style=\"color:red; font-weight:bold; font-size:xx-small\">FEEDBACK: </p>"
   ]
  },
  {
   "cell_type": "markdown",
   "metadata": {
    "deletable": false
   },
   "source": [
    "#### Requirement FR2 - Develop a function to find the standard deviation"
   ]
  },
  {
   "cell_type": "code",
   "execution_count": 3,
   "metadata": {},
   "outputs": [
    {
     "data": {
      "text/plain": [
       "8.553002171977166"
      ]
     },
     "execution_count": 3,
     "metadata": {},
     "output_type": "execute_result"
    }
   ],
   "source": [
    "number=[6, 2, 22, 21, 24, 23, 8, 9, 5, 3, 11, 28, 14, 13, 12, 26, 29, 16, 15, 20, 25, 1, 10, 18, 27, 19, 7]\n",
    "\n",
    "# Standard Deviation method adopted is sample method.\n",
    "def stdev(dlist):\n",
    "    # Call the mean function \n",
    "    xmean = mean(dlist)\n",
    "    sumation_x = 0\n",
    "    for data_value in dlist:        \n",
    "        # Subtract mean from each value in the list\n",
    "        # And square the difference\n",
    "        # Sum the square of the difference\n",
    "        # Divide the sum by no of items in the data set - 1  as data set is assumed a sample size\n",
    "        # Find square root of variance to get standard deviation\n",
    "        sumation_x += (data_value - xmean) ** 2\n",
    "\n",
    "    variance = sumation_x  / (len(dlist) - 1)\n",
    "    Standard_deviation = variance ** (0.5)\n",
    "    return Standard_deviation\n",
    "\n",
    "\n",
    "stdev(number)"
   ]
  },
  {
   "cell_type": "markdown",
   "metadata": {
    "deletable": false
   },
   "source": [
    "<p style=\"color:red; font-weight:bold; font-size:xx-small\">MARK: __%</p>\n",
    "<p style=\"color:red; font-weight:bold; font-size:xx-small\">FEEDBACK: </p>"
   ]
  },
  {
   "cell_type": "markdown",
   "metadata": {
    "deletable": false
   },
   "source": [
    "### Requirement FR3 - Develop a function to find the min/max values and count "
   ]
  },
  {
   "cell_type": "code",
   "execution_count": 4,
   "metadata": {},
   "outputs": [
    {
     "data": {
      "text/plain": [
       "[1, 29, 27]"
      ]
     },
     "execution_count": 4,
     "metadata": {},
     "output_type": "execute_result"
    }
   ],
   "source": [
    "setP = [6, 2, 22, 21, 24, 23, 8, 9, 5, 3, 11, 28, 14, 13, 12, 26, 29, 16, 15, 20, 25, 1, 10, 18, 27, 19, 7]\n",
    "\n",
    "def min_max_count(dlist):\n",
    "    # Min, Max, count as a turple\n",
    "    dlist.sort()\n",
    "\n",
    "    return [min(dlist), max(dlist), len(dlist)]\n",
    "\n",
    "\n",
    "min_max_count(setP)"
   ]
  },
  {
   "cell_type": "markdown",
   "metadata": {
    "deletable": false
   },
   "source": [
    "<p style=\"color:red; font-weight:bold; font-size:xx-small\">MARK: __%</p>\n",
    "<p style=\"color:red; font-weight:bold; font-size:xx-small\">FEEDBACK: </p>"
   ]
  },
  {
   "cell_type": "markdown",
   "metadata": {
    "deletable": false
   },
   "source": [
    "### Requirement FR4 - Develop a function to find the 25th, 50th and 75th percentiles "
   ]
  },
  {
   "cell_type": "code",
   "execution_count": 6,
   "metadata": {},
   "outputs": [
    {
     "data": {
      "text/plain": [
       "[8, 15, 22]"
      ]
     },
     "execution_count": 6,
     "metadata": {},
     "output_type": "execute_result"
    }
   ],
   "source": [
    "number=[6, 2, 22, 21, 24, 23, 8, 9, 5, 3, 11, 28, 14, 13, 12, 26, 29, 16, 15, 20, 25, 1, 10, 18, 27, 19, 7]\n",
    "\n",
    "def pcentiles(dlist):\n",
    "    # Sort the data set to rank the values in ascending order\n",
    "    dlist.sort()\n",
    "\n",
    "    # List of percent N-th values\n",
    "    pcent = [25, 50, 75]\n",
    "\n",
    "    # List to hold result of the percentiles\n",
    "    pct = []\n",
    "\n",
    "    for val in pcent:\n",
    "        # Obtain the index from each percent\n",
    "        ind = len(dlist) * (val / 100)\n",
    "\n",
    "        if (isinstance(ind, float)):\n",
    "            # If index is a real number round to the nearest whole number\n",
    "            # Reduce index by 1 since index of a list starts from 0\n",
    "            # Pick the required value and add to the pct list\n",
    "            ind = round(ind)\n",
    "            ind -= 1\n",
    "            pct.append(dlist[ind])\n",
    "        elif (isinstance(ind, int)):\n",
    "            # If index is a whole number then the percentile is the average of the value  of index -1 and index\n",
    "            # Add result to pct list\n",
    "            pct.append(round((dlist[ind - 1] + dlist[ind]) / 2),2)\n",
    "\n",
    "    return pct\n",
    "\n",
    "pcentiles(number)\n",
    "\n"
   ]
  },
  {
   "cell_type": "markdown",
   "metadata": {
    "deletable": false
   },
   "source": [
    "<p style=\"color:red; font-weight:bold; font-size:xx-small\">MARK: __%</p>\n",
    "<p style=\"color:red; font-weight:bold; font-size:xx-small\">FEEDBACK: </p>"
   ]
  },
  {
   "cell_type": "markdown",
   "metadata": {
    "deletable": false
   },
   "source": [
    "### Requirement FR5 - Develop a function to read a single column from a CSV file"
   ]
  },
  {
   "cell_type": "code",
   "execution_count": 22,
   "metadata": {},
   "outputs": [
    {
     "data": {
      "text/plain": [
       "['Solar',\n",
       " ['0.603',\n",
       "  '0.108128528',\n",
       "  '12.081099',\n",
       "  '1.578641473',\n",
       "  '0.03926',\n",
       "  '0.299208359',\n",
       "  '0.134485968',\n",
       "  '3.971724224',\n",
       "  '3.137078404',\n",
       "  '1.103538835',\n",
       "  '0.881300118',\n",
       "  '3.5462509',\n",
       "  '5.118720829',\n",
       "  '177.5',\n",
       "  '0.011999821',\n",
       "  '0.073591668',\n",
       "  '0.19183',\n",
       "  '2.3386',\n",
       "  '0.952973',\n",
       "  '0.037991538',\n",
       "  '1.035739071',\n",
       "  '0.012679515',\n",
       "  '0.441810565',\n",
       "  '0.1622',\n",
       "  '10.15871272',\n",
       "  '46.164',\n",
       "  '3.791092002',\n",
       "  '0.000961',\n",
       "  '0.588876056',\n",
       "  '0',\n",
       "  '30.73240318',\n",
       "  '0.01836',\n",
       "  '0.037698887',\n",
       "  '0.057143443',\n",
       "  '0.022173967',\n",
       "  '1.793230515',\n",
       "  '23.23072906',\n",
       "  '71.6883359',\n",
       "  '0.1146904',\n",
       "  '0.088143148',\n",
       "  '0.001263953',\n",
       "  '0.08',\n",
       "  '0.117480937',\n",
       "  '0.022788',\n",
       "  '0.459692933',\n",
       "  '2.2428',\n",
       "  '0.9502',\n",
       "  '3.2012',\n",
       "  '0.098244292',\n",
       "  '0.064488547',\n",
       "  '0.013718674',\n",
       "  '0.585723529',\n",
       "  '0.01484375',\n",
       "  '0.697743206',\n",
       "  '3.020039802',\n",
       "  '0.111623598',\n",
       "  '0.675171297',\n",
       "  '0.128029166',\n",
       "  '2.12332226',\n",
       "  '0.745192715',\n",
       "  '1.249117',\n",
       "  '0.299',\n",
       "  '1.02',\n",
       "  '0.009423834',\n",
       "  '1.674',\n",
       "  '0.57106',\n",
       "  '0.154871783',\n",
       "  '0.283982555',\n",
       "  '0.585',\n",
       "  '0.253621',\n",
       "  '4.935234819',\n",
       "  '9.349876912',\n",
       "  '12.52057273',\n",
       "  '0.205337811',\n",
       "  '0.373100151',\n",
       "  '1.957371429',\n",
       "  '2.733',\n",
       "  '4.719656655',\n",
       "  '0.003989071',\n",
       "  '7.890694078',\n",
       "  '0.00696',\n",
       "  '1.286493457',\n",
       "  '0.9468835',\n",
       "  '12.92181535',\n",
       "  '97.11818182',\n",
       "  '0',\n",
       "  '0.010008089',\n",
       "  '0.080231508']]"
      ]
     },
     "execution_count": 22,
     "metadata": {},
     "output_type": "execute_result"
    }
   ],
   "source": [
    "def read_column(file_name, col_no):\n",
    "    with open(file_name, 'r') as file:\n",
    "        lines = file.readlines()\n",
    "        col_data = []  # List to hold the column data\n",
    "        row_count = 1\n",
    "        for line in lines:          # Read a row from csv file\n",
    "            line = line.strip()     # Remove space and newline\n",
    "            cols = line.split(',')  # Split row into columns by delimiter\n",
    "            if (row_count == 1):  # Get column name from first row\n",
    "                col_name = cols[col_no]\n",
    "            else:\n",
    "                # Add column data to list\n",
    "                if (len(cols[col_no]) > 0):\n",
    "                    col_data.append(cols[col_no])\n",
    "\n",
    "            row_count += 1  # Increment row count\n",
    "\n",
    "        return [col_name, col_data]\n",
    "    \n",
    "read_column('task1.csv', 1)\n"
   ]
  },
  {
   "cell_type": "markdown",
   "metadata": {
    "deletable": false
   },
   "source": [
    "<p style=\"color:red; font-weight:bold; font-size:xx-small\">MARK: __%</p>\n",
    "<p style=\"color:red; font-weight:bold; font-size:xx-small\">FEEDBACK: </p>"
   ]
  },
  {
   "cell_type": "markdown",
   "metadata": {
    "deletable": false
   },
   "source": [
    "### Requirement FR6 - Develop a function to read CSV data from a file into memory"
   ]
  },
  {
   "cell_type": "code",
   "execution_count": 23,
   "metadata": {},
   "outputs": [
    {
     "data": {
      "text/plain": [
       "{'Hydropower': ['0.117',\n",
       "  '41.64945459',\n",
       "  '17.26791',\n",
       "  '37.52781287',\n",
       "  '1.76795',\n",
       "  '0.885632595',\n",
       "  '0.45726487',\n",
       "  '0.284810423',\n",
       "  '387.6868063',\n",
       "  '5.125584584',\n",
       "  '244.839096',\n",
       "  '387.2508762',\n",
       "  '23.14438369',\n",
       "  '1202.43',\n",
       "  '56.64701407',\n",
       "  '7.512550207',\n",
       "  '0',\n",
       "  '1.6272',\n",
       "  '0.016454789',\n",
       "  '20.69612073',\n",
       "  '13.48338',\n",
       "  '0.015617162',\n",
       "  '38.93203591',\n",
       "  '13.27777778',\n",
       "  '64.2234218',\n",
       "  '16.9',\n",
       "  '5.720179713',\n",
       "  '0',\n",
       "  '0.221',\n",
       "  '13.81099543',\n",
       "  '139.6678322',\n",
       "  '16.4112',\n",
       "  '10.77',\n",
       "  '3.1074588',\n",
       "  '0.694087982',\n",
       "  '0.0245',\n",
       "  '45.85205715',\n",
       "  '80.997',\n",
       "  '10.3295118',\n",
       "  '0',\n",
       "  '2.433342329',\n",
       "  '0.45',\n",
       "  '0.094557415',\n",
       "  '1.791368',\n",
       "  '24.17649672',\n",
       "  '32.39511459',\n",
       "  '1.6934',\n",
       "  '0.072348',\n",
       "  '26.32037732',\n",
       "  '138.4962175',\n",
       "  '0',\n",
       "  '62.91198244',\n",
       "  '35.20305729',\n",
       "  '2.255678699',\n",
       "  '1.288541272',\n",
       "  '0.0165',\n",
       "  '69.46684307',\n",
       "  '1.852952842',\n",
       "  '35.99700727',\n",
       "  '30.76868807',\n",
       "  '9.383758',\n",
       "  '1.971',\n",
       "  '12.346',\n",
       "  '0',\n",
       "  '17.56396055',\n",
       "  '190.21311',\n",
       "  '0',\n",
       "  '0',\n",
       "  '3.591',\n",
       "  '4.712487886',\n",
       "  '0.914864856',\n",
       "  '2.920390756',\n",
       "  '35.19825724',\n",
       "  '6.369370161',\n",
       "  '61.91687566',\n",
       "  '34.80394017',\n",
       "  '4.4661',\n",
       "  '7.597013',\n",
       "  '0',\n",
       "  '59.51828075',\n",
       "  '0',\n",
       "  '9.900734781',\n",
       "  '0',\n",
       "  '5.464660531',\n",
       "  '288.7063404',\n",
       "  '6.868202',\n",
       "  '72.08394993',\n",
       "  '80.70625435'],\n",
       " 'Solar': ['0.603',\n",
       "  '0.108128528',\n",
       "  '12.081099',\n",
       "  '1.578641473',\n",
       "  '0.03926',\n",
       "  '0.299208359',\n",
       "  '0.134485968',\n",
       "  '3.971724224',\n",
       "  '3.137078404',\n",
       "  '1.103538835',\n",
       "  '0.881300118',\n",
       "  '3.5462509',\n",
       "  '5.118720829',\n",
       "  '177.5',\n",
       "  '0.011999821',\n",
       "  '0.073591668',\n",
       "  '0.19183',\n",
       "  '2.3386',\n",
       "  '0.952973',\n",
       "  '0.037991538',\n",
       "  '1.035739071',\n",
       "  '0.012679515',\n",
       "  '0.441810565',\n",
       "  '0.1622',\n",
       "  '10.15871272',\n",
       "  '46.164',\n",
       "  '3.791092002',\n",
       "  '0.000961',\n",
       "  '0.588876056',\n",
       "  '0',\n",
       "  '30.73240318',\n",
       "  '0.01836',\n",
       "  '0.037698887',\n",
       "  '0.057143443',\n",
       "  '0.022173967',\n",
       "  '1.793230515',\n",
       "  '23.23072906',\n",
       "  '71.6883359',\n",
       "  '0.1146904',\n",
       "  '0.088143148',\n",
       "  '0.001263953',\n",
       "  '0.08',\n",
       "  '0.117480937',\n",
       "  '0.022788',\n",
       "  '0.459692933',\n",
       "  '2.2428',\n",
       "  '0.9502',\n",
       "  '3.2012',\n",
       "  '0.098244292',\n",
       "  '0.064488547',\n",
       "  '0.013718674',\n",
       "  '0.585723529',\n",
       "  '0.01484375',\n",
       "  '0.697743206',\n",
       "  '3.020039802',\n",
       "  '0.111623598',\n",
       "  '0.675171297',\n",
       "  '0.128029166',\n",
       "  '2.12332226',\n",
       "  '0.745192715',\n",
       "  '1.249117',\n",
       "  '0.299',\n",
       "  '1.02',\n",
       "  '0.009423834',\n",
       "  '1.674',\n",
       "  '0.57106',\n",
       "  '0.154871783',\n",
       "  '0.283982555',\n",
       "  '0.585',\n",
       "  '0.253621',\n",
       "  '4.935234819',\n",
       "  '9.349876912',\n",
       "  '12.52057273',\n",
       "  '0.205337811',\n",
       "  '0.373100151',\n",
       "  '1.957371429',\n",
       "  '2.733',\n",
       "  '4.719656655',\n",
       "  '0.003989071',\n",
       "  '7.890694078',\n",
       "  '0.00696',\n",
       "  '1.286493457',\n",
       "  '0.9468835',\n",
       "  '12.92181535',\n",
       "  '97.11818182',\n",
       "  '0',\n",
       "  '0.010008089',\n",
       "  '0.080231508'],\n",
       " 'Wind': ['0.01',\n",
       "  '1.412699784',\n",
       "  '16.266484',\n",
       "  '5.900014713',\n",
       "  '0.0822',\n",
       "  '0.005086066',\n",
       "  '0.117978175',\n",
       "  '7.468573702',\n",
       "  '48.47990705',\n",
       "  '1.378292235',\n",
       "  '0.977082975',\n",
       "  '32.17005152',\n",
       "  '3.688710149',\n",
       "  '366',\n",
       "  '0.043437355',\n",
       "  '1.379085419',\n",
       "  '0.22061',\n",
       "  '0.6093',\n",
       "  '13.89880328',\n",
       "  '0.080257771',\n",
       "  '2.438966811',\n",
       "  '0.633888557',\n",
       "  '0.531134615',\n",
       "  '5.857',\n",
       "  '28.16738103',\n",
       "  '111.59',\n",
       "  '6.300269103',\n",
       "  '0.000825',\n",
       "  '0.608',\n",
       "  '0.004365699',\n",
       "  '60.31116',\n",
       "  '0.198',\n",
       "  '0.361973742',\n",
       "  '0',\n",
       "  '8.390989769',\n",
       "  '0.105269485',\n",
       "  '17.47251773',\n",
       "  '6.789652',\n",
       "  '0.5412648',\n",
       "  '0.017452186',\n",
       "  '0.123287671',\n",
       "  '1.145',\n",
       "  '0.307147387',\n",
       "  '0.097338',\n",
       "  '0',\n",
       "  '12.62920683',\n",
       "  '3.8407',\n",
       "  '10.549225',\n",
       "  '2.046003874',\n",
       "  '3.875881',\n",
       "  '0',\n",
       "  '0.497064956',\n",
       "  '0.0079',\n",
       "  '1.428156269',\n",
       "  '0.574940541',\n",
       "  '0.453',\n",
       "  '4.80031359',\n",
       "  '0',\n",
       "  '1.72268087',\n",
       "  '1.493633864',\n",
       "  '1.152924',\n",
       "  '12.845',\n",
       "  '12.657',\n",
       "  '0',\n",
       "  '6.497',\n",
       "  '0.22774',\n",
       "  '0',\n",
       "  '0',\n",
       "  '0.005',\n",
       "  '0.006159',\n",
       "  '6.894765181',\n",
       "  '2.40369047',\n",
       "  '50.83600814',\n",
       "  '0.305662189',\n",
       "  '16.81339144',\n",
       "  '0.133',\n",
       "  '1.6794',\n",
       "  '0.76415852',\n",
       "  '0',\n",
       "  '19.825697',\n",
       "  '0',\n",
       "  '1.1274',\n",
       "  '0.00075',\n",
       "  '57.11571962',\n",
       "  '277.7291061',\n",
       "  '0',\n",
       "  '0',\n",
       "  '0.326664064'],\n",
       " 'Other': ['0',\n",
       "  '2.29693941',\n",
       "  '3.539346',\n",
       "  '4.763252129',\n",
       "  '0.0811',\n",
       "  '0.008019927',\n",
       "  '0.109149431',\n",
       "  '5.427544126',\n",
       "  '52.88998503',\n",
       "  '0.496261903',\n",
       "  '0.679177831',\n",
       "  '9.588635536',\n",
       "  '6.737367486',\n",
       "  '90.72346175',\n",
       "  '2.088838157',\n",
       "  '0.682716361',\n",
       "  '0.05136',\n",
       "  '4.7285',\n",
       "  '6.119796142',\n",
       "  '0.427967651',\n",
       "  '0',\n",
       "  '1.369850244',\n",
       "  '0.23331662',\n",
       "  '12.86168421',\n",
       "  '8.521197318',\n",
       "  '51.437',\n",
       "  '0.298303335',\n",
       "  '0.100724044',\n",
       "  '2.371182482',\n",
       "  '6.009414916',\n",
       "  '30.45869682',\n",
       "  '14.5368',\n",
       "  '0.021740437',\n",
       "  '0',\n",
       "  '1.242427268',\n",
       "  '0.115',\n",
       "  '25.31219835',\n",
       "  '33.6554308',\n",
       "  '0.0024284',\n",
       "  '0',\n",
       "  '0.962146042',\n",
       "  '0.47',\n",
       "  '0.226101964',\n",
       "  '0.05405',\n",
       "  '1.004339878',\n",
       "  '6.480283932',\n",
       "  '0',\n",
       "  '4.875860296',\n",
       "  '8.320907599',\n",
       "  '0.178266653',\n",
       "  '0',\n",
       "  '0.163131005',\n",
       "  '0.022',\n",
       "  '1.39699069',\n",
       "  '0.0041',\n",
       "  '2.647315578',\n",
       "  '0.222533905',\n",
       "  '1.667658529',\n",
       "  '0.674414968',\n",
       "  '11.540128',\n",
       "  '6.331',\n",
       "  '3.439',\n",
       "  '0.114486339',\n",
       "  '0.4617102',\n",
       "  '0.4645',\n",
       "  '0',\n",
       "  '0.903',\n",
       "  '1.419478261',\n",
       "  '0.28827567',\n",
       "  '0.530431005',\n",
       "  '10.1747942',\n",
       "  '7.378921565',\n",
       "  '0.11339364',\n",
       "  '11.85871366',\n",
       "  '1.974071402',\n",
       "  '2.01435',\n",
       "  '12.31650175',\n",
       "  '0',\n",
       "  '9.983786807',\n",
       "  '0',\n",
       "  '0.218506543',\n",
       "  '0.005983607',\n",
       "  '35.58660245',\n",
       "  '83.67703684',\n",
       "  '0',\n",
       "  '0',\n",
       "  '0.060833333']}"
      ]
     },
     "execution_count": 23,
     "metadata": {},
     "output_type": "execute_result"
    }
   ],
   "source": [
    "def read_to_mem(file_name, no_of_cols):\n",
    "    dict_data = {}  # Dictonary object to hold each column nane and data\n",
    "    \n",
    "    for i in range(no_of_cols):  # Range to loop through each column\n",
    "        # Call function to extract column data into the col_info list\n",
    "        col_info = read_column(file_name, i)\n",
    "        # Assign  the list to dictionary object\n",
    "        dict_data[col_info[0]] = col_info[1]\n",
    "\n",
    "    return dict_data\n",
    "\n",
    "read_to_mem('task1.csv', 4)\n",
    "\n",
    "\n"
   ]
  },
  {
   "cell_type": "markdown",
   "metadata": {
    "deletable": false
   },
   "source": [
    "<p style=\"color:red; font-weight:bold; font-size:xx-small\">MARK: __%</p>\n",
    "<p style=\"color:red; font-weight:bold; font-size:xx-small\">FEEDBACK: </p>"
   ]
  },
  {
   "cell_type": "markdown",
   "metadata": {
    "deletable": false
   },
   "source": [
    "### Requirement FR7 - Develop a function to generate a set of statistics for a given data file"
   ]
  },
  {
   "cell_type": "code",
   "execution_count": 39,
   "metadata": {},
   "outputs": [
    {
     "data": {
      "text/plain": [
       "{'Stats': ['Count', 'Mean', 'Stdev', 'Min', '25th', '50th', '75th', 'Max'],\n",
       " 'Hydropower': [78, 55.08, 152.386, 0.016, 1202.43, 1.853, 10.77, 37.528],\n",
       " 'Solar': [86, 6.77, 23.431, 0.001, 177.5, 0.088, 0.586, 2.339],\n",
       " 'Wind': [77, 16.43, 53.671, 0.001, 366.0, 0.221, 1.378, 7.469],\n",
       " 'Other': [76, 8.03, 16.895, 0.002, 90.723, 0.223, 1.397, 6.737]}"
      ]
     },
     "execution_count": 39,
     "metadata": {},
     "output_type": "execute_result"
    }
   ],
   "source": [
    "def gen_stats(file_name, no_of_cols):\n",
    "\n",
    "    # Dictonary object to hold each column nane and statistic\n",
    "    dict_data = {\n",
    "        \"Stats\": [\"Count\", \"Mean\", \"Stdev\", \"Min\", \"25th\", \"50th\", \"75th\", \"Max\"]\n",
    "    }\n",
    "\n",
    "    for i in range(no_of_cols):  # Range to loop through each column\n",
    "        # Call read_column function to extract column name and data set into the col_info list\n",
    "        col_info = read_column(file_name, i)\n",
    "\n",
    "        col_data = []\n",
    "\n",
    "        for i in range(len(col_info[1])):  # Iterate though column data set and add only values > 0 to col_data list\n",
    "            if (float(col_info[1][i]) > 0):\n",
    "                col_data.append(float(col_info[1][i]))\n",
    "\n",
    "        stat_val = min_max_count(col_data) # Call min_max_count function to find min, max and count of column data set\n",
    "        xmean = mean(col_data) # Find mean of column data set\n",
    "        standard_dev = stdev(col_data) # Find standard deviation of column data set\n",
    "        pct = pcentiles(col_data) # Find percentiles of column data set\n",
    "        \n",
    "        # Add column name and claculated stats to dict_data\n",
    "        dict_data[col_info[0]] = [stat_val[2], round(xmean, 2),\n",
    "                                  round(standard_dev, 3), round(stat_val[0], 3), round(stat_val[1], 3), round(pct[0], 3), round(pct[1], 3), round(pct[2], 3)]\n",
    "\n",
    "    return dict_data\n",
    "\n",
    "gen_stats('task1.csv', 4)\n"
   ]
  },
  {
   "cell_type": "markdown",
   "metadata": {
    "deletable": false
   },
   "source": [
    "<p style=\"color:red; font-weight:bold; font-size:xx-small\">MARK: __%</p>\n",
    "<p style=\"color:red; font-weight:bold; font-size:xx-small\">FEEDBACK: </p>"
   ]
  },
  {
   "cell_type": "markdown",
   "metadata": {
    "deletable": false
   },
   "source": [
    "### Requirement FR8 - Develop a function to print a custom table"
   ]
  },
  {
   "cell_type": "code",
   "execution_count": 7,
   "metadata": {},
   "outputs": [
    {
     "ename": "NameError",
     "evalue": "name 'gen_stats' is not defined",
     "output_type": "error",
     "traceback": [
      "\u001b[1;31m---------------------------------------------------------------------------\u001b[0m",
      "\u001b[1;31mNameError\u001b[0m                                 Traceback (most recent call last)",
      "\u001b[1;32m<ipython-input-7-0377184c0e34>\u001b[0m in \u001b[0;36m<module>\u001b[1;34m\u001b[0m\n\u001b[0;32m     70\u001b[0m \u001b[1;33m\u001b[0m\u001b[0m\n\u001b[0;32m     71\u001b[0m \u001b[1;33m\u001b[0m\u001b[0m\n\u001b[1;32m---> 72\u001b[1;33m \u001b[0mcustom_table\u001b[0m\u001b[1;33m(\u001b[0m\u001b[1;34m'-'\u001b[0m\u001b[1;33m,\u001b[0m \u001b[1;33m[\u001b[0m\u001b[1;36m1\u001b[0m\u001b[1;33m,\u001b[0m\u001b[1;36m2\u001b[0m\u001b[1;33m,\u001b[0m\u001b[1;36m3\u001b[0m\u001b[1;33m,\u001b[0m\u001b[1;36m4\u001b[0m\u001b[1;33m]\u001b[0m\u001b[1;33m)\u001b[0m \u001b[1;31m# Parameters: border character,  list of cols to print\u001b[0m\u001b[1;33m\u001b[0m\u001b[1;33m\u001b[0m\u001b[0m\n\u001b[0m",
      "\u001b[1;32m<ipython-input-7-0377184c0e34>\u001b[0m in \u001b[0;36mcustom_table\u001b[1;34m(border, cols)\u001b[0m\n\u001b[0;32m      1\u001b[0m \u001b[1;32mdef\u001b[0m \u001b[0mcustom_table\u001b[0m\u001b[1;33m(\u001b[0m\u001b[0mborder\u001b[0m\u001b[1;33m,\u001b[0m \u001b[0mcols\u001b[0m\u001b[1;33m)\u001b[0m\u001b[1;33m:\u001b[0m\u001b[1;33m\u001b[0m\u001b[1;33m\u001b[0m\u001b[0m\n\u001b[0;32m      2\u001b[0m     \u001b[1;31m# Dict to hold stats\u001b[0m\u001b[1;33m\u001b[0m\u001b[1;33m\u001b[0m\u001b[1;33m\u001b[0m\u001b[0m\n\u001b[1;32m----> 3\u001b[1;33m     \u001b[0mprint_dict\u001b[0m \u001b[1;33m=\u001b[0m \u001b[0mgen_stats\u001b[0m\u001b[1;33m(\u001b[0m\u001b[1;34m'task1.csv'\u001b[0m\u001b[1;33m,\u001b[0m \u001b[1;36m4\u001b[0m\u001b[1;33m)\u001b[0m \u001b[1;31m# Parameters: file name, no. of columns in the file\u001b[0m\u001b[1;33m\u001b[0m\u001b[1;33m\u001b[0m\u001b[0m\n\u001b[0m\u001b[0;32m      4\u001b[0m \u001b[1;33m\u001b[0m\u001b[0m\n\u001b[0;32m      5\u001b[0m     \u001b[0mtotal_width\u001b[0m \u001b[1;33m=\u001b[0m \u001b[1;36m0\u001b[0m\u001b[1;33m\u001b[0m\u001b[1;33m\u001b[0m\u001b[0m\n",
      "\u001b[1;31mNameError\u001b[0m: name 'gen_stats' is not defined"
     ]
    }
   ],
   "source": [
    "def custom_table(border, cols):\n",
    "    # Dict to hold stats\n",
    "    print_dict = gen_stats('task1.csv', 4) # Parameters: file name, no. of columns in the file\n",
    "\n",
    "    total_width = 0\n",
    "    \n",
    "    # header_line = border * 56\n",
    "    divider = \"|\"\n",
    "\n",
    "    if (border != \"-\"):\n",
    "        divider = border\n",
    "\n",
    "    padding = \" \"\n",
    "\n",
    "    header = \"\"\n",
    "\n",
    "    # Width of each column\n",
    "    # padding*2 represents left padding\n",
    "    # padding*(col_with - length of column content) represents right padding\n",
    "    col_width = [7, 12, 7, 7, 7] # List of column sizes\n",
    "    \n",
    "    if min(cols) > 0: # Ensure Stats column is present\n",
    "        cols.append(0)\n",
    "        \n",
    "    cols.sort() # Sort columns in ascending order\n",
    "    \n",
    "    for j in cols: # Determine size of header_line\n",
    "        total_width += col_width[j] # Add column sizes\n",
    "        \n",
    "    total_width += len(cols) * 2 # Add left padding of each column\n",
    "    \n",
    "    total_width += len(cols) + 1\n",
    "        \n",
    "\n",
    "    header_line = border * total_width\n",
    "    \n",
    "    print(header_line)\n",
    "\n",
    "\n",
    "    k = 0\n",
    "    for key in print_dict: # Iterate through dict keys\n",
    "\n",
    "        for j in range(len(cols)):\n",
    "\n",
    "            if (cols[j] == k):\n",
    "                header = header + divider + padding*2 + key + padding * (col_width[k] - len(str(key)))\n",
    "                    \n",
    "        k += 1\n",
    "    header = header + divider\n",
    "\n",
    "    print(header)\n",
    "    print(header_line)\n",
    "\n",
    "    for i in range(8): # Iterate through stats rows\n",
    "        line_detail = \"\"\n",
    "        k = 0\n",
    "        for key in print_dict: # Iterate through dict keys as stats title\n",
    "            for j in range(len(cols)): # Iterate through columns to output\n",
    "                if (cols[j] == k):\n",
    "                    line_detail = line_detail + divider + padding*2 + \\\n",
    "                        str(print_dict[key][i]) + padding * \\\n",
    "                        (col_width[k] - len(str(print_dict[key][i]))) # Claculate right padding for each column\n",
    "\n",
    "            k += 1\n",
    "\n",
    "        line_detail = line_detail + divider\n",
    "\n",
    "        print(line_detail)\n",
    "    print(header_line)\n",
    "    \n",
    "\n",
    "custom_table('-', [1,2,3,4]) # Parameters: border character,  list of cols to print\n"
   ]
  },
  {
   "cell_type": "markdown",
   "metadata": {
    "deletable": false
   },
   "source": [
    "<p style=\"color:red; font-weight:bold; font-size:xx-small\">MARK: __%</p>\n",
    "<p style=\"color:red; font-weight:bold; font-size:xx-small\">FEEDBACK: </p>"
   ]
  },
  {
   "cell_type": "markdown",
   "metadata": {
    "deletable": false
   },
   "source": [
    "# Coding Standards\n",
    "<p style=\"color:red; font-weight:bold; font-size:xx-small\">MARK: __%</p>\n",
    "<p style=\"color:red; font-weight:bold; font-size:xx-small\">FEEDBACK: </p>"
   ]
  },
  {
   "cell_type": "markdown",
   "metadata": {
    "deletable": false
   },
   "source": [
    "# Process Development Report for Task 1\n"
   ]
  },
  {
   "cell_type": "markdown",
   "metadata": {},
   "source": [
    "o\tidentify any strengths/weaknesses of the approach used\n",
    "o\tsuggest alternative approaches that could have been taken instead of the one you used\n",
    "\n",
    "### Approaching the task\n",
    "The task was done using Python's built in functions\n",
    "1.  **FR1** function to calculate mean used the **sum** for summation of data in the list and **len** to get count of items in the list\n",
    "\n",
    "2. **FR2** function to calculate standard deviation (algorithm)\n",
    "    xmean = call mean function\n",
    "    Loop thru list\n",
    "       subtract mean from each value in the list\n",
    "       square the difference\n",
    "       sum the square of the difference\n",
    "       no of items = len(list) - 1\n",
    "       variance =  sum / no of items \n",
    "       standard deviation = square root of variance (using exponentaion symbol **)\n",
    "       \n",
    " 2. **FR4** function to calculate 25th, 50th, 75th percentiles (algorithm)\n",
    "        sort list\n",
    "        assign percentiles to a list [25, 50, 75]        \n",
    "        create a list to hold percentile values\n",
    "       for val in pcent:\n",
    "        # Obtain the index from each percent\n",
    "        ind = len(dlist) * (val / 100)\n",
    "\n",
    "        if (isinstance(ind, float)):\n",
    "            # If index is a real number round to the nearest whole number\n",
    "            # Reduce index by 1 since index of a list starts from 0\n",
    "            # Pick the required value and add to the pct list\n",
    "            ind = round(ind)\n",
    "            ind -= 1\n",
    "            pct.append(dlist[ind])\n",
    "        elif (isinstance(ind, int)):\n",
    "            # If index is a whole number then the percentile is the average of the value  of index -1 and index\n",
    "            # Add result to pct list\n",
    "\n",
    " \n",
    " \n"
   ]
  },
  {
   "cell_type": "markdown",
   "metadata": {
    "deletable": false
   },
   "source": [
    "<p style=\"color:red; font-weight:bold; font-size:xx-small\">MARK: __%</p>\n",
    "<p style=\"color:red; font-weight:bold; font-size:xx-small\">FEEDBACK: </p>"
   ]
  }
 ],
 "metadata": {
  "kernelspec": {
   "display_name": "Python 3",
   "language": "python",
   "name": "python3"
  },
  "language_info": {
   "codemirror_mode": {
    "name": "ipython",
    "version": 3
   },
   "file_extension": ".py",
   "mimetype": "text/x-python",
   "name": "python",
   "nbconvert_exporter": "python",
   "pygments_lexer": "ipython3",
   "version": "3.8.8"
  }
 },
 "nbformat": 4,
 "nbformat_minor": 4
}
